{
  "metadata": {
    "kernelspec": {
      "name": "python",
      "display_name": "Pyolite",
      "language": "python"
    },
    "language_info": {
      "codemirror_mode": {
        "name": "python",
        "version": 3
      },
      "file_extension": ".py",
      "mimetype": "text/x-python",
      "name": "python",
      "nbconvert_exporter": "python",
      "pygments_lexer": "ipython3",
      "version": "3.8"
    }
  },
  "nbformat_minor": 4,
  "nbformat": 4,
  "cells": [
    {
      "cell_type": "markdown",
      "source": "<center>\n    <img src=\"https://cf-courses-data.s3.us.cloud-object-storage.appdomain.cloud/IBMDeveloperSkillsNetwork-DS0105EN-SkillsNetwork/labs/Module2/images/SN_web_lightmode.png\" width=\"300\" alt=\"cognitiveclass.ai logo\"  />\n</center>\n",
      "metadata": {}
    },
    {
      "cell_type": "markdown",
      "source": "#### Add your code below following the instructions given in the course\n",
      "metadata": {}
    },
    {
      "cell_type": "markdown",
      "source": "# My Jupyter Notebook on Skills Network LTI",
      "metadata": {}
    },
    {
      "cell_type": "markdown",
      "source": "**Ashraf Younes** <br> I am a fresh graduate with a dual degree in Chemical engineering and Chemistry.",
      "metadata": {}
    },
    {
      "cell_type": "markdown",
      "source": "*I am interested in data science because it is one of the most rapidly growing and well paying tech jobs.*",
      "metadata": {}
    },
    {
      "cell_type": "markdown",
      "source": "### The following code will solve a simple math equation: ",
      "metadata": {}
    },
    {
      "cell_type": "code",
      "source": "1*2 + 3",
      "metadata": {
        "trusted": true
      },
      "execution_count": 5,
      "outputs": [
        {
          "execution_count": 5,
          "output_type": "execute_result",
          "data": {
            "text/plain": "5"
          },
          "metadata": {}
        }
      ]
    },
    {
      "cell_type": "markdown",
      "source": "**In this assignment we used several features including:**\n- H1 and H2 Header style.\n- Bold characters and italic formatting.\n- A code that performs a mathmatical equation.\n- A horizontal line, bullet points, and a table.\n___\n| Feature | Cell Number |\n| ---- | ---- |\n| H1 and H2 Header style. | Cells 1 and 4 |\n| Bold characters and italic formatting. | Cells 2 and 3 | \n| A code that performs a mathmatical equation. | Cell number 5 |\n| A horizontal line, bullet points, and a table. | Cell number 6 |\n___ \n",
      "metadata": {}
    },
    {
      "cell_type": "code",
      "source": "",
      "metadata": {},
      "execution_count": null,
      "outputs": []
    }
  ]
}